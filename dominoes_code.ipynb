{
 "cells": [
  {
   "cell_type": "code",
   "execution_count": null,
   "id": "initial_id",
   "metadata": {
    "collapsed": true,
    "is_executing": true
   },
   "outputs": [],
   "source": [
    "import numpy as np\n",
    "import cv2 as cv\n",
    "import os"
   ]
  },
  {
   "cell_type": "markdown",
   "id": "2e110375bee9e889",
   "metadata": {
    "collapsed": false
   },
   "source": [
    "### Calea folderelor de input si output"
   ]
  },
  {
   "cell_type": "code",
   "execution_count": 3,
   "id": "956f4a05fed028ee",
   "metadata": {
    "ExecuteTime": {
     "end_time": "2023-12-06T12:55:48.146605Z",
     "start_time": "2023-12-06T12:55:47.911056500Z"
    },
    "collapsed": false
   },
   "outputs": [],
   "source": [
    "folder_test = \"testare\"     # folderul cu imaginile si fisierele de testare\n",
    "folder_output = \"output\"    # folderul in care se vor scrie fisierele de output; trebuie sa fie deja creat\n",
    "cale_poza_start = \"auxiliare/01.jpg\"    # calea catre prima poza auxiliara, fara piese pe tabla "
   ]
  },
  {
   "cell_type": "code",
   "execution_count": 4,
   "id": "ae3182c54ff93f14",
   "metadata": {
    "ExecuteTime": {
     "end_time": "2023-12-06T12:55:48.193733400Z",
     "start_time": "2023-12-06T12:55:47.942863900Z"
    },
    "collapsed": false
   },
   "outputs": [],
   "source": [
    "def extrage_careu(image):\n",
    "    \n",
    "    # Se aplica o masca HSV care elimina pixelii corespunzatori mesei\n",
    "    frame = image.copy()\n",
    "    frame_hsv = cv.cvtColor(frame, cv.COLOR_BGR2HSV)\n",
    "    l = np.array([25, 0, 0])\n",
    "    u = np.array([255, 255, 255])\n",
    "    \n",
    "    mask_table_hsv = cv.inRange(frame_hsv, l, u)        \n",
    "    res = cv.bitwise_and(frame, frame, mask=mask_table_hsv)\n",
    "    \n",
    "    # Se aplica erosion pentru a elimina pixelii albi ramasi din masa\n",
    "    res = cv.cvtColor(res, cv.COLOR_BGR2GRAY)\n",
    "    kernel = np.ones((7, 7), np.uint8)\n",
    "    res = cv.erode(res, kernel)\n",
    "    \n",
    "    # Se aplica un threshold, astfel incat aproape intreaga tabla devine alba, iar restul imaginii este neagra\n",
    "    _, thresh = cv.threshold(res, 10, 255, cv.THRESH_BINARY)\n",
    "\n",
    "    # Se determina colturile tablei utilizand codul din laborator\n",
    "    contours, _ = cv.findContours(thresh,  cv.RETR_EXTERNAL, cv.CHAIN_APPROX_SIMPLE)\n",
    "    max_area = 0\n",
    "   \n",
    "    for i in range(len(contours)):\n",
    "        if(len(contours[i]) >3):\n",
    "            possible_top_left = None\n",
    "            possible_bottom_right = None\n",
    "            for point in contours[i].squeeze():\n",
    "                if possible_top_left is None or point[0] + point[1] < possible_top_left[0] + possible_top_left[1]:\n",
    "                    possible_top_left = point\n",
    "\n",
    "                if possible_bottom_right is None or point[0] + point[1] > possible_bottom_right[0] + possible_bottom_right[1] :\n",
    "                    possible_bottom_right = point\n",
    "\n",
    "            diff = np.diff(contours[i].squeeze(), axis = 1)\n",
    "            possible_top_right = contours[i].squeeze()[np.argmin(diff)]\n",
    "            possible_bottom_left = contours[i].squeeze()[np.argmax(diff)]\n",
    "            if cv.contourArea(np.array([[possible_top_left],[possible_top_right],[possible_bottom_right],[possible_bottom_left]])) > max_area:\n",
    "                max_area = cv.contourArea(np.array([[possible_top_left],[possible_top_right],[possible_bottom_right],[possible_bottom_left]]))\n",
    "                top_left = possible_top_left\n",
    "                bottom_right = possible_bottom_right\n",
    "                top_right = possible_top_right\n",
    "                bottom_left = possible_bottom_left\n",
    "\n",
    "    width = 1500\n",
    "    height = 1500\n",
    "    \n",
    "    image_copy = image.copy()\n",
    "    cv.circle(image_copy,tuple(top_left),20,(0,0,255),-1)\n",
    "    cv.circle(image_copy,tuple(top_right),20,(0,0,255),-1)\n",
    "    cv.circle(image_copy,tuple(bottom_left),20,(0,0,255),-1)\n",
    "    cv.circle(image_copy,tuple(bottom_right),20,(0,0,255),-1)\n",
    "    \n",
    "    puzzle = np.array([top_left, top_right, bottom_right, bottom_left], dtype = \"float32\")\n",
    "    destination_puzzle = np.array([[0, 0], [width, 0], [width, height], [0, height]], dtype = \"float32\")\n",
    "    \n",
    "    M = cv.getPerspectiveTransform(puzzle, destination_puzzle)\n",
    "    result = cv.warpPerspective(image, M, (width, height))\n",
    "    \n",
    "    # Se extrage portiunea de joc la coordonate fixe din tabla mare\n",
    "    img_noua = cv.resize(result[228:1273, 233:1267], (width, height))\n",
    "    \n",
    "    return img_noua"
   ]
  },
  {
   "cell_type": "markdown",
   "id": "2be00644",
   "metadata": {},
   "source": []
  },
  {
   "cell_type": "markdown",
   "id": "472637d070eef491",
   "metadata": {
    "collapsed": false
   },
   "source": [
    "#### Functie pentru prelucrarea imaginilor"
   ]
  },
  {
   "cell_type": "code",
   "execution_count": 5,
   "id": "249e5021918c3bbd",
   "metadata": {
    "ExecuteTime": {
     "end_time": "2023-12-06T12:55:48.303394700Z",
     "start_time": "2023-12-06T12:55:47.990952700Z"
    },
    "collapsed": false
   },
   "outputs": [],
   "source": [
    "def prelucrare_det_pozitie(img, t=140):\n",
    "    \n",
    "    # Se aplica o masca HSV care inlatura majoritatea pixelilor colorati\n",
    "    frame = img.copy()\n",
    "    frame_hsv = cv.cvtColor(frame, cv.COLOR_BGR2HSV)\n",
    "    l = np.array([75, 0, 0])\n",
    "    u = np.array([120, 120, 255])\n",
    "    mask_table_hsv = cv.inRange(frame_hsv, l, u)        \n",
    "    res = cv.bitwise_and(frame, frame, mask=mask_table_hsv)\n",
    "    \n",
    "    # Se aplica un threshold astfel incat tabla este in mare masura neagra cu exceptia\n",
    "    # pieselor de joc si a detaliilor deschise la culoare\n",
    "    res = cv.cvtColor(res, cv.COLOR_BGR2GRAY)\n",
    "    _, thresh = cv.threshold(res, t, 255, cv.THRESH_BINARY)\n",
    "    \n",
    "    return thresh"
   ]
  },
  {
   "cell_type": "markdown",
   "id": "8fd2fa34baa50182",
   "metadata": {
    "collapsed": false
   },
   "source": [
    "#### Prelucrarea imaginii de start pentru toate jocurile"
   ]
  },
  {
   "cell_type": "code",
   "execution_count": 6,
   "id": "1fcecb4a034242aa",
   "metadata": {
    "ExecuteTime": {
     "end_time": "2023-12-06T12:55:48.648052400Z",
     "start_time": "2023-12-06T12:55:48.021609800Z"
    },
    "collapsed": false
   },
   "outputs": [],
   "source": [
    "img = cv.imread(cale_poza_start)\n",
    "start = extrage_careu(img)\n",
    "start = prelucrare_det_pozitie(start)"
   ]
  },
  {
   "cell_type": "markdown",
   "id": "cfaaa2b4a044e0cf",
   "metadata": {
    "collapsed": false
   },
   "source": [
    "#### Functie pentru determinarea pozitiei in care s-a plasat piesa"
   ]
  },
  {
   "cell_type": "code",
   "execution_count": 7,
   "id": "4e022c322789f7f7",
   "metadata": {
    "ExecuteTime": {
     "end_time": "2023-12-06T12:55:48.666201Z",
     "start_time": "2023-12-06T12:55:48.648052400Z"
    },
    "collapsed": false
   },
   "outputs": [],
   "source": [
    "# Functia primeste imaginea cu diferenta dintre doua imagini:\n",
    "# cea pentru care se determina pozitia piesei adaugate si cea anterioara\n",
    "\n",
    "# Se returneaza coordonatele in pixeli unde s-a pozitionat piesa\n",
    "def gasire_coordonate(diff):\n",
    "    inaltime, latime = 1500, 1500\n",
    "    dim_chenar = 100\n",
    "\n",
    "    max_diferenta1 = 0\n",
    "    max_diferenta2 = 0\n",
    "    coord_max1 = None\n",
    "    coord_max2 = None\n",
    "    \n",
    "    for lin in range(0, inaltime - dim_chenar + 1, dim_chenar):\n",
    "        for col in range(0, latime - dim_chenar + 1, dim_chenar):\n",
    "            chenar_diferenta = diff[lin:lin+dim_chenar, col:col+dim_chenar]\n",
    "\n",
    "            suma_diferente = np.sum(chenar_diferenta)\n",
    "\n",
    "            if suma_diferente > max_diferenta1:\n",
    "                max_diferenta2 = max_diferenta1\n",
    "                coord_max2 = coord_max1\n",
    "\n",
    "                max_diferenta1 = suma_diferente\n",
    "                coord_max1 = (lin, col)\n",
    "\n",
    "            elif suma_diferente > max_diferenta2:\n",
    "                max_diferenta2 = suma_diferente\n",
    "                coord_max2 = (lin, col)\n",
    "\n",
    "    return coord_max1, coord_max2"
   ]
  },
  {
   "cell_type": "markdown",
   "id": "bf15612541294440",
   "metadata": {
    "collapsed": false
   },
   "source": [
    "#### Functie pentru convertirea coordonatelor in pixeli in pozitii ale jocului"
   ]
  },
  {
   "cell_type": "code",
   "execution_count": 8,
   "id": "ab9f4e6a987431f8",
   "metadata": {
    "ExecuteTime": {
     "end_time": "2023-12-06T12:55:48.743466300Z",
     "start_time": "2023-12-06T12:55:48.666201Z"
    },
    "collapsed": false
   },
   "outputs": [],
   "source": [
    "def convert_to_excel_format(coord):\n",
    "    litere_alfabet = list(\"ABCDEFGHIJKLMNOPQRSTUVWXYZ\")\n",
    "    litera_coloana = litere_alfabet[coord[1]]\n",
    "    excel_format = f\"{coord[0]+1}{litera_coloana}\"\n",
    "    return excel_format"
   ]
  },
  {
   "cell_type": "markdown",
   "id": "a9b8954a537de036",
   "metadata": {
    "collapsed": false
   },
   "source": [
    "#### Setarea variabilelor pentru calcularea scorului"
   ]
  },
  {
   "cell_type": "code",
   "execution_count": 9,
   "id": "e96b532ad922b54a",
   "metadata": {
    "ExecuteTime": {
     "end_time": "2023-12-06T12:55:48.745467600Z",
     "start_time": "2023-12-06T12:55:48.711828400Z"
    },
    "collapsed": false
   },
   "outputs": [],
   "source": [
    "scoruri_tabla = np.array([\n",
    "    [5, 0, 0, 4, 0, 0, 0, 3, 0, 0, 0, 4, 0, 0, 5],\n",
    "    [0, 0, 3, 0, 0, 4, 0, 0, 0, 4, 0, 0, 3, 0, 0],\n",
    "    [0, 3, 0, 0, 2, 0, 0, 0, 0, 0, 2, 0, 0, 3, 0],\n",
    "    [4, 0, 0, 3, 0, 2, 0, 0, 0, 2, 0, 3, 0, 0, 4],\n",
    "    [0, 0, 2, 0, 1, 0, 1, 0, 1, 0, 1, 0, 2, 0, 0],\n",
    "    [0, 4, 0, 2, 0, 1, 0, 0, 0, 1, 0, 2, 0, 4, 0],\n",
    "    [0, 0, 0, 0, 1, 0, 0, 0, 0, 0, 1, 0, 0, 0, 0],\n",
    "    [3, 0, 0, 0, 0, 0, 0, 0, 0, 0, 0, 0, 0, 0, 3],\n",
    "    [0, 0, 0, 0, 1, 0, 0, 0, 0, 0, 1, 0, 0, 0, 0],\n",
    "    [0, 4, 0, 2, 0, 1, 0, 0, 0, 1, 0, 2, 0, 4, 0],\n",
    "    [0, 0, 2, 0, 1, 0, 1, 0, 1, 0, 1, 0, 2, 0, 0],\n",
    "    [4, 0, 0, 3, 0, 2, 0, 0, 0, 2, 0, 3, 0, 0, 4],\n",
    "    [0, 3, 0, 0, 2, 0, 0, 0, 0, 0, 2, 0, 0, 3, 0],\n",
    "    [0, 0, 3, 0, 0, 4, 0, 0, 0, 4, 0, 0, 3, 0, 0],\n",
    "    [5, 0, 0, 4, 0, 0, 0, 3, 0, 0, 0, 4, 0, 0, 5]\n",
    "])"
   ]
  },
  {
   "cell_type": "code",
   "execution_count": 10,
   "id": "142526d55f21f99b",
   "metadata": {
    "ExecuteTime": {
     "end_time": "2023-12-06T12:55:48.773051Z",
     "start_time": "2023-12-06T12:55:48.737439Z"
    },
    "collapsed": false
   },
   "outputs": [],
   "source": [
    "traseu = [1, 2, 3, 4, 5, 6, 0, 2, 5, 3, \n",
    "          4, 6, 2, 2, 0, 3, 5, 4, 1, 6,\n",
    "          2, 4, 5, 5, 0, 6, 3, 4, 2, 0,\n",
    "          1, 5, 1, 3, 4, 4, 4, 5, 0, 6,\n",
    "          3, 5, 4, 1, 3, 2, 0, 0, 1, 1,\n",
    "          2, 3, 6, 3, 5, 4, 1, 0, 6, 6,\n",
    "          5, 2, 1, 2, 5, 0, 3, 3, 5, 0,\n",
    "          6, 1, 4, 0, 6, 3, 5, 1, 4, 1,\n",
    "          4, 2, 6, 2, 3, 1, 6, 2, 0, 4,\n",
    "          0, 1, 6, 4, 4, 1, 6, 6, 3, 0]"
   ]
  },
  {
   "cell_type": "markdown",
   "id": "5cfa5735cc46b4a9",
   "metadata": {
    "collapsed": false
   },
   "source": [
    "#### Citirea imaginilor din folderul de testare si prelucrarea lor"
   ]
  },
  {
   "cell_type": "code",
   "execution_count": 11,
   "id": "223e1117545af1b0",
   "metadata": {
    "ExecuteTime": {
     "end_time": "2023-12-06T12:56:28.875614100Z",
     "start_time": "2023-12-06T12:55:48.759590700Z"
    },
    "collapsed": false
   },
   "outputs": [],
   "source": [
    "files = os.listdir(folder_test)\n",
    "images = [[] for i in range(0,5)]\n",
    "\n",
    "for file in files: \n",
    "    if file[-3:] == 'jpg':\n",
    "        indice = int(file[0])-1\n",
    "        img = cv.imread(os.path.join(folder_test, file))\n",
    "        \n",
    "        result = extrage_careu(img)\n",
    "        result = prelucrare_det_pozitie(result)\n",
    "        images[indice].append(result)"
   ]
  },
  {
   "cell_type": "markdown",
   "id": "7c3d2b6d528f253a",
   "metadata": {
    "collapsed": false
   },
   "source": [
    "#### Sectiune de cod care determina piesele, pozitiile si scorul"
   ]
  },
  {
   "cell_type": "code",
   "execution_count": 12,
   "id": "4d970b98b920dbff",
   "metadata": {
    "ExecuteTime": {
     "end_time": "2023-12-06T12:56:30.112981400Z",
     "start_time": "2023-12-06T12:56:28.875614100Z"
    },
    "collapsed": false
   },
   "outputs": [],
   "source": [
    "for i in range(0, 5):\n",
    "    \n",
    "    # Citirea fisierului de mutari pentru fiecare joc\n",
    "    cale_fisier_mutare = os.path.join(folder_test, f\"{i+1}_mutari.txt\")\n",
    "    with open(cale_fisier_mutare, 'r') as file:\n",
    "        mutari = [line.strip() for line in file.readlines()]\n",
    "    \n",
    "    scor = [0, 0] # scorul reprezinta si pozitia pe traseu\n",
    "\n",
    "    for j in range(0, 20):\n",
    "        \n",
    "        # Se determina diferenta la nivel de pixel dintre imaginea actuala si cea anterioara\n",
    "        if j == 0:\n",
    "            diff = images[i][j] - start\n",
    "        else:\n",
    "            diff = images[i][j] - images[i][j-1]\n",
    "\n",
    "        # Aceasta diferenta este folosita pentru a determina coordonatele piesei adaugate        \n",
    "        coord1, coord2 = gasire_coordonate(diff)\n",
    "        \n",
    "        # Sortarea coordonatelor\n",
    "        if (coord1[0] > coord2[0] or\n",
    "            (coord1[0] == coord2[0] and coord1[1] > coord2[1])):\n",
    "            aux = coord1\n",
    "            coord1 = coord2\n",
    "            coord2 = aux\n",
    "            \n",
    "        ### Determinarea numarului inscris pe piesele de domino    \n",
    "        coordinates = (coord1, coord2)\n",
    "        buline = []\n",
    "        \n",
    "        # Pentru fiecare jumatate din piesa se va determina numarul de buline de pe aceasta\n",
    "        for poz in coordinates:\n",
    "            lin1, col1 = poz[0], poz[1]             # coltul stanga sus\n",
    "            lin2, col2 = poz[0]+100, poz[1]+100     # coltul dreapta jos\n",
    "    \n",
    "            # Pentru fiecare patrat se mai adauga 5 pixeli in toate directiile posibile\n",
    "            # pentru cazurile in care piesele nu sunt asezate perfect\n",
    "            lin1 = lin1 - 5 if lin1 != 0 else lin1\n",
    "            col1 = col1 - 5 if col1 != 0 else col1\n",
    "            \n",
    "            lin2 = lin2 + 5 if lin2 != 1500 else lin2\n",
    "            col2 = col2 + 5 if lin2 != 1500 else col2\n",
    "\n",
    "            img = images[i][j][lin1:lin2, col1:col2].copy()\n",
    "            poza = cv.cvtColor(img, cv.COLOR_GRAY2BGR)\n",
    "            \n",
    "            # Prelucrari inainte de a aplica HoughCircles\n",
    "            img = cv.medianBlur(img, ksize=5)\n",
    "            img = cv.Canny(img, 50, 120)\n",
    "            \n",
    "            circles = cv.HoughCircles(\n",
    "                img, cv.HOUGH_GRADIENT, 1.7, 7, \n",
    "                param1=75, param2=30, minRadius=8, maxRadius=14)\n",
    "            \n",
    "            if circles is None:\n",
    "                nr_buline = 0\n",
    "            else:\n",
    "                _, nr_buline, _ = circles.shape\n",
    "                \n",
    "            # Daca din intamplare se detecteaza mai mult de 6 buline, atunci se limiteaza la 6\n",
    "            nr_buline = 6 if nr_buline > 6 else nr_buline\n",
    "    \n",
    "            buline.append(nr_buline)\n",
    "            \n",
    "        \n",
    "        ### Mentinerea scorului\n",
    "    \n",
    "        # Coordonatele folosite pentru tabla de joc\n",
    "        coord1 = tuple(coord // 100 for coord in coord1)\n",
    "        coord2 = tuple(coord // 100 for coord in coord2)\n",
    "        \n",
    "        # Coordonatele scrise in fisier\n",
    "        excel_format_max1 = convert_to_excel_format(coord1)\n",
    "        excel_format_max2 = convert_to_excel_format(coord2)\n",
    "        \n",
    "        jucator_curent = int(mutari[j][-1]) - 1\n",
    "        jucator_opus = 1 - jucator_curent\n",
    "    \n",
    "        # Se adauga scorul mutarii\n",
    "        scor_mutare = scoruri_tabla[coord1[0]][coord1[1]] + scoruri_tabla[coord2[0]][coord2[1]]\n",
    "        \n",
    "        # Se verifica daca e piesa dubla, caz in care scorul se dubleaza\n",
    "        if buline[0] == buline[1]:\n",
    "            scor_mutare *= 2\n",
    "        \n",
    "        # Se adauga bonusurile pentru ambii jucatori, daca e cazul\n",
    "        if scor[jucator_curent] > 0 and traseu[scor[jucator_curent] - 1] in buline:\n",
    "            scor_mutare += 3\n",
    "        \n",
    "        if scor[jucator_opus] > 0 and traseu[scor[jucator_opus] - 1] in buline:\n",
    "            scor[jucator_opus] += 3\n",
    "         \n",
    "        scor[jucator_curent] += scor_mutare\n",
    "        \n",
    "        # Se scrie rezultatul in fisierul de output\n",
    "        cale_fisier_output = os.path.join(folder_output, f\"{i+1}_{str(j+1).zfill(2)}.txt\")\n",
    "        \n",
    "        with open(cale_fisier_output, \"w\") as file:\n",
    "            file.write(f\"{excel_format_max1} {buline[0]}\\n\"\n",
    "                       f\"{excel_format_max2} {buline[1]}\\n\"\n",
    "                       f\"{scor_mutare}\")"
   ]
  }
 ],
 "metadata": {
  "kernelspec": {
   "display_name": "Python 3",
   "language": "python",
   "name": "python3"
  },
  "language_info": {
   "codemirror_mode": {
    "name": "ipython",
    "version": 2
   },
   "file_extension": ".py",
   "mimetype": "text/x-python",
   "name": "python",
   "nbconvert_exporter": "python",
   "pygments_lexer": "ipython2",
   "version": "2.7.6"
  }
 },
 "nbformat": 4,
 "nbformat_minor": 5
}
